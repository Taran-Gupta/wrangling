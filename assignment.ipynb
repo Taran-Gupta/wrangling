{
 "cells": [
  {
   "cell_type": "markdown",
   "id": "13ad028b-72b7-43ed-aa78-96fd4e518040",
   "metadata": {
    "id": "13ad028b-72b7-43ed-aa78-96fd4e518040"
   },
   "source": [
    "# Assignment: Data Wrangling\n",
    "## `! git clone https://github.com/DS3001/wrangling`"
   ]
  },
  {
   "cell_type": "markdown",
   "id": "5735a4d4-8be8-433a-a351-70eb8002e632",
   "metadata": {
    "id": "5735a4d4-8be8-433a-a351-70eb8002e632"
   },
   "source": [
    "**Q1.** Open the \"tidy_data.pdf\" document in the repo, which is a paper called Tidy Data by Hadley Wickham.\n",
    "\n",
    "  1. Read the abstract. What is this paper about?\n",
    "  2. Read the introduction. What is the \"tidy data standard\" intended to accomplish?\n",
    "  3. Read the intro to section 2. What does this sentence mean: \"Like families, tidy datasets are all alike but every messy dataset is messy in its own way.\" What does this sentence mean: \"For a given dataset, it’s usually easy to figure out what are observations and what are variables, but it is surprisingly difficult to precisely define variables and observations in general.\"\n",
    "  4. Read Section 2.2. How does Wickham define values, variables, and observations?\n",
    "  5. How is \"Tidy Data\" defined in section 2.3?\n",
    "  6. Read the intro to Section 3 and Section 3.1. What are the 5 most common problems with messy datasets? Why are the data in Table 4 messy? What is \"melting\" a dataset?\n",
    "  7. Why, specifically, is table 11 messy but table 12 tidy and \"molten\"?\n",
    "  8. Read Section 6. What is the \"chicken-and-egg\" problem with focusing on tidy data? What does Wickham hope happens in the future with further work on the subject of data wrangling?"
   ]
  },
  {
   "cell_type": "markdown",
   "id": "9ca22840-adc0-4b89-a0c5-ba46d4ae4351",
   "metadata": {},
   "source": [
    "**Question 1:**\n",
    "\n",
    "1. The paper is about the advantages of \"tidy\" datasets when it comes to data cleaning, and what structure/manipulation is necessary to achieve these datasets. Each row is an observation, each column is a variable, and each observational unit is a table.\n",
    "\n",
    "2. It is intended to create a standard method of organization of data within a dataset to make it easier to read/work with, and encourage initial data exploration and simplify the use of multiple data analysis tools.\n",
    "\n",
    "3. All tidy datasets are structure in the same way, and thus should be similar. The data that is initially given though, which is untidy, presents their own unique problems (different NA values, unclear codebooks, inconsistent formatting, etc.). Datasets will not have the exact same problems wrong with them, and thus (at our level, for now), the data needs human eyes on it to determine what the problems are and how to mitigate the issues. When given a data set, it is pretty clear that each row represents an observation while the columns keep track of the variables. However when assmebling data oneself or trying to generally define the terms, it becomes less clear if something is a variable or observation as they could be organized in more than one way. For example, height and width could both be integer variables with their own columns, or they could be values taken on by the variable dimension. The organization of the data in columns and rows dictates which is \"correct\".\n",
    "\n",
    "4. Values are the collection of quantitative and qualitative data (numbers and strings) that make up a dataset. Variables are values grouped by similar attributes (columns: height, temperature) whereas observations are a group of data across variables for one particular \"instance\" of measurement (or a unit) (rows: person, day, region).\n",
    "\n",
    "5. Tidy data, as opposed to messy data, is defined as data that has variables forming the columns and observations forming the rows. Each observational unit must form a table.\n",
    "\n",
    "6. The 5 most common problems with messy datasets are: column headers are not names and instead values, multiple variables are stored in one column, variables are stored in both rows and columns, multiple observational units are in the same table, and a single observational unit are in multiple tables. Table 4 is messy because the column headers are values instead of variable names (income), and both the rows and the columns represent variables whereas teh values are the frequencies/observations. Melting a data set refers to stacking or expanding the data, where columns are turned into rows. \n",
    "\n",
    "7. The year, month, and day column were combined into one date column which got rid of a lot of empty values (since day is really a value). Furthermore, tmax and tmin were extracted as 2 columns instead of \"element\" deciding what \"value\" actually describes. \n",
    "\n",
    "8. The chicken-and-egg problem is referring to the link between tidy data and tools for tidy data. If the data changes structure, then the tools will no longer work, and if the tools change to improve efficiency/workflow, then it wouldn't work on the now \"untidy\" data. Changing one requires changing both or creating work arounds. Wickham hopes that data continues to become more organizable and clear, and that the tools keep improving as well. They hope that data scientists think about this problem and work constructively on it instead of just using the information in the paper presented mindlessly. "
   ]
  },
  {
   "cell_type": "markdown",
   "id": "da879ea7-8aac-48a3-b6c2-daea56d2e072",
   "metadata": {
    "id": "da879ea7-8aac-48a3-b6c2-daea56d2e072"
   },
   "source": [
    "**Q2.** This question provides some practice cleaning variables which have common problems.\n",
    "1. Numeric variable: For `./data/airbnb_hw.csv`, clean the `Price` variable as well as you can, and explain the choices you make. How many missing values do you end up with? (Hint: What happens to the formatting when a price goes over 999 dollars, say from 675 to 1,112?)\n",
    "2. Categorical variable: For the `./data/sharks.csv` data covered in the lecture, clean the \"Type\" variable as well as you can, and explain the choices you make.\n",
    "3. Dummy variable: For the pretrial data covered in the lecture, clean the `WhetherDefendantWasReleasedPretrial` variable as well as you can, and, in particular, replace missing values with `np.nan`.\n",
    "4. Missing values, not at random: For the pretrial data covered in the lecture, clean the `ImposedSentenceAllChargeInContactEvent` variable as well as you can, and explain the choices you make. (Hint: Look at the `SentenceTypeAllChargesAtConvictionInContactEvent` variable.)"
   ]
  },
  {
   "cell_type": "code",
   "execution_count": 73,
   "id": "d8be46cc-5b5e-471b-b3bc-1adf4b83e4e0",
   "metadata": {
    "tags": []
   },
   "outputs": [],
   "source": [
    "#import statements\n",
    "import numpy as np\n",
    "import pandas as pd\n",
    "\n",
    "#reading all the files to the notebook, so it is all run only once\n",
    "url = 'http://www.vcsc.virginia.gov/pretrialdataproject/October%202017%20Cohort_Virginia%20Pretrial%20Data%20Project_Deidentified%20FINAL%20Update_10272021.csv'\n",
    "dfbnb = pd.read_csv('./data/airbnb_hw.csv',low_memory = False)\n",
    "dfshark = pd.read_csv('./data/sharks.csv',low_memory = False)\n",
    "dftrial = pd.read_csv(url,low_memory = False)"
   ]
  },
  {
   "cell_type": "markdown",
   "id": "49dfe554-2542-442b-81de-a4a24f8cfc5e",
   "metadata": {},
   "source": [
    "**Question 2, Part 1:**"
   ]
  },
  {
   "cell_type": "code",
   "execution_count": 40,
   "id": "2cac6ba5-6775-49cc-84fa-36a87322debc",
   "metadata": {
    "tags": []
   },
   "outputs": [
    {
     "data": {
      "text/html": [
       "<div>\n",
       "<style scoped>\n",
       "    .dataframe tbody tr th:only-of-type {\n",
       "        vertical-align: middle;\n",
       "    }\n",
       "\n",
       "    .dataframe tbody tr th {\n",
       "        vertical-align: top;\n",
       "    }\n",
       "\n",
       "    .dataframe thead th {\n",
       "        text-align: right;\n",
       "    }\n",
       "</style>\n",
       "<table border=\"1\" class=\"dataframe\">\n",
       "  <thead>\n",
       "    <tr style=\"text-align: right;\">\n",
       "      <th></th>\n",
       "      <th>Host Id</th>\n",
       "      <th>Host Since</th>\n",
       "      <th>Name</th>\n",
       "      <th>Neighbourhood</th>\n",
       "      <th>Property Type</th>\n",
       "      <th>Review Scores Rating (bin)</th>\n",
       "      <th>Room Type</th>\n",
       "      <th>Zipcode</th>\n",
       "      <th>Beds</th>\n",
       "      <th>Number of Records</th>\n",
       "      <th>Number Of Reviews</th>\n",
       "      <th>Price</th>\n",
       "      <th>Review Scores Rating</th>\n",
       "    </tr>\n",
       "  </thead>\n",
       "  <tbody>\n",
       "    <tr>\n",
       "      <th>0</th>\n",
       "      <td>5162530</td>\n",
       "      <td>NaN</td>\n",
       "      <td>1 Bedroom in Prime Williamsburg</td>\n",
       "      <td>Brooklyn</td>\n",
       "      <td>Apartment</td>\n",
       "      <td>NaN</td>\n",
       "      <td>Entire home/apt</td>\n",
       "      <td>11249.0</td>\n",
       "      <td>1.0</td>\n",
       "      <td>1</td>\n",
       "      <td>0</td>\n",
       "      <td>145</td>\n",
       "      <td>NaN</td>\n",
       "    </tr>\n",
       "    <tr>\n",
       "      <th>1</th>\n",
       "      <td>33134899</td>\n",
       "      <td>NaN</td>\n",
       "      <td>Sunny, Private room in Bushwick</td>\n",
       "      <td>Brooklyn</td>\n",
       "      <td>Apartment</td>\n",
       "      <td>NaN</td>\n",
       "      <td>Private room</td>\n",
       "      <td>11206.0</td>\n",
       "      <td>1.0</td>\n",
       "      <td>1</td>\n",
       "      <td>1</td>\n",
       "      <td>37</td>\n",
       "      <td>NaN</td>\n",
       "    </tr>\n",
       "    <tr>\n",
       "      <th>2</th>\n",
       "      <td>39608626</td>\n",
       "      <td>NaN</td>\n",
       "      <td>Sunny Room in Harlem</td>\n",
       "      <td>Manhattan</td>\n",
       "      <td>Apartment</td>\n",
       "      <td>NaN</td>\n",
       "      <td>Private room</td>\n",
       "      <td>10032.0</td>\n",
       "      <td>1.0</td>\n",
       "      <td>1</td>\n",
       "      <td>1</td>\n",
       "      <td>28</td>\n",
       "      <td>NaN</td>\n",
       "    </tr>\n",
       "    <tr>\n",
       "      <th>3</th>\n",
       "      <td>500</td>\n",
       "      <td>6/26/2008</td>\n",
       "      <td>Gorgeous 1 BR with Private Balcony</td>\n",
       "      <td>Manhattan</td>\n",
       "      <td>Apartment</td>\n",
       "      <td>NaN</td>\n",
       "      <td>Entire home/apt</td>\n",
       "      <td>10024.0</td>\n",
       "      <td>3.0</td>\n",
       "      <td>1</td>\n",
       "      <td>0</td>\n",
       "      <td>199</td>\n",
       "      <td>NaN</td>\n",
       "    </tr>\n",
       "    <tr>\n",
       "      <th>4</th>\n",
       "      <td>500</td>\n",
       "      <td>6/26/2008</td>\n",
       "      <td>Trendy Times Square Loft</td>\n",
       "      <td>Manhattan</td>\n",
       "      <td>Apartment</td>\n",
       "      <td>95.0</td>\n",
       "      <td>Private room</td>\n",
       "      <td>10036.0</td>\n",
       "      <td>3.0</td>\n",
       "      <td>1</td>\n",
       "      <td>39</td>\n",
       "      <td>549</td>\n",
       "      <td>96.0</td>\n",
       "    </tr>\n",
       "  </tbody>\n",
       "</table>\n",
       "</div>"
      ],
      "text/plain": [
       "    Host Id Host Since                                Name Neighbourhood   \\\n",
       "0   5162530        NaN     1 Bedroom in Prime Williamsburg       Brooklyn   \n",
       "1  33134899        NaN     Sunny, Private room in Bushwick       Brooklyn   \n",
       "2  39608626        NaN                Sunny Room in Harlem      Manhattan   \n",
       "3       500  6/26/2008  Gorgeous 1 BR with Private Balcony      Manhattan   \n",
       "4       500  6/26/2008            Trendy Times Square Loft      Manhattan   \n",
       "\n",
       "  Property Type  Review Scores Rating (bin)        Room Type  Zipcode  Beds  \\\n",
       "0     Apartment                         NaN  Entire home/apt  11249.0   1.0   \n",
       "1     Apartment                         NaN     Private room  11206.0   1.0   \n",
       "2     Apartment                         NaN     Private room  10032.0   1.0   \n",
       "3     Apartment                         NaN  Entire home/apt  10024.0   3.0   \n",
       "4     Apartment                        95.0     Private room  10036.0   3.0   \n",
       "\n",
       "   Number of Records  Number Of Reviews Price  Review Scores Rating  \n",
       "0                  1                  0   145                   NaN  \n",
       "1                  1                  1    37                   NaN  \n",
       "2                  1                  1    28                   NaN  \n",
       "3                  1                  0   199                   NaN  \n",
       "4                  1                 39   549                  96.0  "
      ]
     },
     "execution_count": 40,
     "metadata": {},
     "output_type": "execute_result"
    }
   ],
   "source": [
    "dfbnb.head()"
   ]
  },
  {
   "cell_type": "code",
   "execution_count": 41,
   "id": "671eeb43-c504-418b-b331-f00f9778160a",
   "metadata": {
    "tags": []
   },
   "outputs": [
    {
     "data": {
      "text/plain": [
       "(30478, 13)"
      ]
     },
     "execution_count": 41,
     "metadata": {},
     "output_type": "execute_result"
    }
   ],
   "source": [
    "dfbnb.shape"
   ]
  },
  {
   "cell_type": "code",
   "execution_count": 42,
   "id": "54e46c10-7c47-43ad-befe-0829c92e03e1",
   "metadata": {
    "tags": []
   },
   "outputs": [
    {
     "name": "stdout",
     "output_type": "stream",
     "text": [
      "count     30478\n",
      "unique      511\n",
      "top         150\n",
      "freq       1481\n",
      "Name: Price, dtype: object\n",
      "['145' '37' '28' '199' '549' '149' '250' '90' '270' '290' '170' '59' '49'\n",
      " '68' '285' '75' '100' '150' '700' '125' '175' '40' '89' '95' '99' '499'\n",
      " '120' '79' '110' '180' '143' '230' '350' '135' '85' '60' '70' '55' '44'\n",
      " '200' '165' '115' '74' '84' '129' '50' '185' '80' '190' '140' '45' '65'\n",
      " '225' '600' '109' '1,990' '73' '240' '72' '105' '155' '160' '42' '132'\n",
      " '117' '295' '280' '159' '107' '69' '239' '220' '399' '130' '375' '585'\n",
      " '275' '139' '260' '35' '133' '300' '289' '179' '98' '195' '29' '27' '39'\n",
      " '249' '192' '142' '169' '1,000' '131' '138' '113' '122' '329' '101' '475'\n",
      " '238' '272' '308' '126' '235' '315' '248' '128' '56' '207' '450' '215'\n",
      " '210' '385' '445' '136' '247' '118' '77' '76' '92' '198' '205' '299'\n",
      " '222' '245' '104' '153' '349' '114' '320' '292' '226' '420' '500' '325'\n",
      " '307' '78' '265' '108' '123' '189' '32' '58' '86' '219' '800' '335' '63'\n",
      " '229' '425' '67' '87' '1,200' '158' '650' '234' '310' '695' '400' '166'\n",
      " '119' '62' '168' '340' '479' '43' '395' '144' '52' '47' '529' '187' '209'\n",
      " '233' '82' '269' '163' '172' '305' '156' '550' '435' '137' '124' '48'\n",
      " '279' '330' '5,000' '134' '378' '97' '277' '64' '193' '147' '186' '264'\n",
      " '30' '3,000' '112' '94' '379' '57' '415' '236' '410' '214' '88' '66' '71'\n",
      " '171' '157' '545' '1,500' '83' '96' '1,800' '81' '188' '380' '255' '505'\n",
      " '54' '33' '174' '93' '740' '640' '1,300' '440' '599' '357' '1,239' '495'\n",
      " '127' '5,999' '178' '348' '152' '242' '183' '253' '750' '259' '365' '273'\n",
      " '197' '397' '103' '389' '355' '559' '38' '203' '999' '141' '162' '333'\n",
      " '698' '46' '360' '895' '10' '41' '206' '281' '449' '388' '212' '102'\n",
      " '201' '2,750' '4,750' '432' '675' '167' '390' '298' '339' '194' '302'\n",
      " '211' '595' '191' '53' '361' '480' '8,000' '4,500' '459' '997' '345'\n",
      " '216' '218' '111' '735' '276' '91' '490' '850' '398' '36' '775' '267'\n",
      " '625' '336' '2,500' '176' '725' '3,750' '469' '106' '460' '287' '575'\n",
      " '227' '263' '25' '228' '208' '177' '880' '148' '116' '685' '470' '217'\n",
      " '164' '61' '645' '699' '405' '252' '319' '268' '419' '343' '525' '311'\n",
      " '840' '154' '294' '950' '409' '184' '257' '204' '241' '2,000' '412' '121'\n",
      " '288' '196' '900' '647' '524' '1,750' '309' '510' '1,495' '1,700' '799'\n",
      " '383' '372' '492' '327' '1,999' '656' '224' '173' '875' '1,170' '795'\n",
      " '690' '146' '465' '1,100' '151' '274' '429' '825' '282' '256' '1,111'\n",
      " '620' '271' '161' '51' '855' '579' '1,174' '430' '20' '899' '649' '485'\n",
      " '181' '455' '4,000' '243' '342' '590' '560' '374' '437' '232' '359' '985'\n",
      " '31' '244' '254' '723' '237' '428' '370' '34' '1,400' '580' '2,520' '221'\n",
      " '749' '1,600' '2,695' '306' '202' '680' '570' '520' '223' '2,295' '213'\n",
      " '1,065' '346' '24' '286' '296' '266' '26' '995' '1,368' '393' '182' '635'\n",
      " '258' '780' '589' '347' '1,250' '1,350' '446' '3,200' '1,050' '1,650'\n",
      " '1,550' '975' '323' '6,500' '2,499' '1,850' '2,250' '715' '461' '540'\n",
      " '356' '439' '384' '569' '1,900' '22' '785' '626' '830' '318' '444' '321'\n",
      " '401' '1,499' '888' '369' '770' '386' '366' '344' '630' '313' '597' '262'\n",
      " '509' '10,000' '278' '312' '789' '1,195' '422' '21' '765' '3,500' '945'\n",
      " '326' '3,100' '2,486' '3,390' '1,356' '2,599' '472' '454' '328' '396'\n",
      " '291'] \n",
      "\n"
     ]
    },
    {
     "data": {
      "text/plain": [
       "<Axes: >"
      ]
     },
     "execution_count": 42,
     "metadata": {},
     "output_type": "execute_result"
    },
    {
     "data": {
      "image/png": "[encoded data removed]",
      "text/plain": [
       "<Figure size 640x480 with 1 Axes>"
      ]
     },
     "metadata": {},
     "output_type": "display_data"
    }
   ],
   "source": [
    "var = 'Price'\n",
    "print(dfbnb[var].describe())\n",
    "print(dfbnb[var].unique() , '\\n')\n",
    "dfbnb[var].hist()"
   ]
  },
  {
   "cell_type": "code",
   "execution_count": 43,
   "id": "cf847961-cabb-46e5-9710-cd870266a8a2",
   "metadata": {
    "tags": []
   },
   "outputs": [
    {
     "name": "stdout",
     "output_type": "stream",
     "text": [
      "count    30478.000000\n",
      "mean       163.589737\n",
      "std        197.785454\n",
      "min         10.000000\n",
      "25%         80.000000\n",
      "50%        125.000000\n",
      "75%        195.000000\n",
      "max      10000.000000\n",
      "Name: Price, dtype: float64\n",
      "[  145    37    28   199   549   149   250    90   270   290   170    59\n",
      "    49    68   285    75   100   150   700   125   175    40    89    95\n",
      "    99   499   120    79   110   180   143   230   350   135    85    60\n",
      "    70    55    44   200   165   115    74    84   129    50   185    80\n",
      "   190   140    45    65   225   600   109  1990    73   240    72   105\n",
      "   155   160    42   132   117   295   280   159   107    69   239   220\n",
      "   399   130   375   585   275   139   260    35   133   300   289   179\n",
      "    98   195    29    27    39   249   192   142   169  1000   131   138\n",
      "   113   122   329   101   475   238   272   308   126   235   315   248\n",
      "   128    56   207   450   215   210   385   445   136   247   118    77\n",
      "    76    92   198   205   299   222   245   104   153   349   114   320\n",
      "   292   226   420   500   325   307    78   265   108   123   189    32\n",
      "    58    86   219   800   335    63   229   425    67    87  1200   158\n",
      "   650   234   310   695   400   166   119    62   168   340   479    43\n",
      "   395   144    52    47   529   187   209   233    82   269   163   172\n",
      "   305   156   550   435   137   124    48   279   330  5000   134   378\n",
      "    97   277    64   193   147   186   264    30  3000   112    94   379\n",
      "    57   415   236   410   214    88    66    71   171   157   545  1500\n",
      "    83    96  1800    81   188   380   255   505    54    33   174    93\n",
      "   740   640  1300   440   599   357  1239   495   127  5999   178   348\n",
      "   152   242   183   253   750   259   365   273   197   397   103   389\n",
      "   355   559    38   203   999   141   162   333   698    46   360   895\n",
      "    10    41   206   281   449   388   212   102   201  2750  4750   432\n",
      "   675   167   390   298   339   194   302   211   595   191    53   361\n",
      "   480  8000  4500   459   997   345   216   218   111   735   276    91\n",
      "   490   850   398    36   775   267   625   336  2500   176   725  3750\n",
      "   469   106   460   287   575   227   263    25   228   208   177   880\n",
      "   148   116   685   470   217   164    61   645   699   405   252   319\n",
      "   268   419   343   525   311   840   154   294   950   409   184   257\n",
      "   204   241  2000   412   121   288   196   900   647   524  1750   309\n",
      "   510  1495  1700   799   383   372   492   327  1999   656   224   173\n",
      "   875  1170   795   690   146   465  1100   151   274   429   825   282\n",
      "   256  1111   620   271   161    51   855   579  1174   430    20   899\n",
      "   649   485   181   455  4000   243   342   590   560   374   437   232\n",
      "   359   985    31   244   254   723   237   428   370    34  1400   580\n",
      "  2520   221   749  1600  2695   306   202   680   570   520   223  2295\n",
      "   213  1065   346    24   286   296   266    26   995  1368   393   182\n",
      "   635   258   780   589   347  1250  1350   446  3200  1050  1650  1550\n",
      "   975   323  6500  2499  1850  2250   715   461   540   356   439   384\n",
      "   569  1900    22   785   626   830   318   444   321   401  1499   888\n",
      "   369   770   386   366   344   630   313   597   262   509 10000   278\n",
      "   312   789  1195   422    21   765  3500   945   326  3100  2486  3390\n",
      "  1356  2599   472   454   328   396   291] \n",
      "\n",
      "Total missing:  0\n"
     ]
    }
   ],
   "source": [
    "#first get rid of commas in values >= 1000, using '.str.replace' since the values are stored as strings\n",
    "dfbnb[var] = dfbnb[var].str.replace(',','')\n",
    "\n",
    "#typecast from string to int\n",
    "dfbnb[var] = pd.to_numeric(dfbnb[var], errors = 'coerce')\n",
    "\n",
    "#prints relevant information to check what cleaning did, and how many null/nan values are in the data\n",
    "print(dfbnb[var].describe())\n",
    "print(dfbnb[var].unique() , '\\n')\n",
    "print('Total missing: ',sum(dfbnb[var].isnull()))"
   ]
  },
  {
   "cell_type": "markdown",
   "id": "287edc28-16b1-4d43-bf6a-7a643a151be7",
   "metadata": {},
   "source": [
    "**Question 2, Part 2:**"
   ]
  },
  {
   "cell_type": "code",
   "execution_count": 44,
   "id": "500f1f3e-bcb5-45c7-b0ec-69b59e42781f",
   "metadata": {
    "tags": []
   },
   "outputs": [
    {
     "data": {
      "text/html": [
       "<div>\n",
       "<style scoped>\n",
       "    .dataframe tbody tr th:only-of-type {\n",
       "        vertical-align: middle;\n",
       "    }\n",
       "\n",
       "    .dataframe tbody tr th {\n",
       "        vertical-align: top;\n",
       "    }\n",
       "\n",
       "    .dataframe thead th {\n",
       "        text-align: right;\n",
       "    }\n",
       "</style>\n",
       "<table border=\"1\" class=\"dataframe\">\n",
       "  <thead>\n",
       "    <tr style=\"text-align: right;\">\n",
       "      <th></th>\n",
       "      <th>index</th>\n",
       "      <th>Case Number</th>\n",
       "      <th>Date</th>\n",
       "      <th>Year</th>\n",
       "      <th>Type</th>\n",
       "      <th>Country</th>\n",
       "      <th>Area</th>\n",
       "      <th>Location</th>\n",
       "      <th>Activity</th>\n",
       "      <th>Name</th>\n",
       "      <th>...</th>\n",
       "      <th>Unnamed: 246</th>\n",
       "      <th>Unnamed: 247</th>\n",
       "      <th>Unnamed: 248</th>\n",
       "      <th>Unnamed: 249</th>\n",
       "      <th>Unnamed: 250</th>\n",
       "      <th>Unnamed: 251</th>\n",
       "      <th>Unnamed: 252</th>\n",
       "      <th>Unnamed: 253</th>\n",
       "      <th>Unnamed: 254</th>\n",
       "      <th>Unnamed: 255</th>\n",
       "    </tr>\n",
       "  </thead>\n",
       "  <tbody>\n",
       "    <tr>\n",
       "      <th>0</th>\n",
       "      <td>0</td>\n",
       "      <td>2020.02.05</td>\n",
       "      <td>05-Feb-2020</td>\n",
       "      <td>2020.0</td>\n",
       "      <td>Unprovoked</td>\n",
       "      <td>USA</td>\n",
       "      <td>Maui</td>\n",
       "      <td>NaN</td>\n",
       "      <td>Stand-Up Paddle boarding</td>\n",
       "      <td>NaN</td>\n",
       "      <td>...</td>\n",
       "      <td>NaN</td>\n",
       "      <td>NaN</td>\n",
       "      <td>NaN</td>\n",
       "      <td>NaN</td>\n",
       "      <td>NaN</td>\n",
       "      <td>NaN</td>\n",
       "      <td>NaN</td>\n",
       "      <td>NaN</td>\n",
       "      <td>NaN</td>\n",
       "      <td>NaN</td>\n",
       "    </tr>\n",
       "    <tr>\n",
       "      <th>1</th>\n",
       "      <td>1</td>\n",
       "      <td>2020.01.30.R</td>\n",
       "      <td>Reported 30-Jan-2020</td>\n",
       "      <td>2020.0</td>\n",
       "      <td>Provoked</td>\n",
       "      <td>BAHAMAS</td>\n",
       "      <td>Exumas</td>\n",
       "      <td>NaN</td>\n",
       "      <td>Floating</td>\n",
       "      <td>Ana Bruna Avila</td>\n",
       "      <td>...</td>\n",
       "      <td>NaN</td>\n",
       "      <td>NaN</td>\n",
       "      <td>NaN</td>\n",
       "      <td>NaN</td>\n",
       "      <td>NaN</td>\n",
       "      <td>NaN</td>\n",
       "      <td>NaN</td>\n",
       "      <td>NaN</td>\n",
       "      <td>NaN</td>\n",
       "      <td>NaN</td>\n",
       "    </tr>\n",
       "    <tr>\n",
       "      <th>2</th>\n",
       "      <td>2</td>\n",
       "      <td>2020.01.17</td>\n",
       "      <td>17-Jan-2020</td>\n",
       "      <td>2020.0</td>\n",
       "      <td>Unprovoked</td>\n",
       "      <td>AUSTRALIA</td>\n",
       "      <td>New South Wales</td>\n",
       "      <td>Windang Beach</td>\n",
       "      <td>Surfing</td>\n",
       "      <td>Will Schroeter</td>\n",
       "      <td>...</td>\n",
       "      <td>NaN</td>\n",
       "      <td>NaN</td>\n",
       "      <td>NaN</td>\n",
       "      <td>NaN</td>\n",
       "      <td>NaN</td>\n",
       "      <td>NaN</td>\n",
       "      <td>NaN</td>\n",
       "      <td>NaN</td>\n",
       "      <td>NaN</td>\n",
       "      <td>NaN</td>\n",
       "    </tr>\n",
       "    <tr>\n",
       "      <th>3</th>\n",
       "      <td>3</td>\n",
       "      <td>2020.01.16</td>\n",
       "      <td>16-Jan-2020</td>\n",
       "      <td>2020.0</td>\n",
       "      <td>Unprovoked</td>\n",
       "      <td>NEW ZEALAND</td>\n",
       "      <td>Southland</td>\n",
       "      <td>Oreti Beach</td>\n",
       "      <td>Surfing</td>\n",
       "      <td>Jordan King</td>\n",
       "      <td>...</td>\n",
       "      <td>NaN</td>\n",
       "      <td>NaN</td>\n",
       "      <td>NaN</td>\n",
       "      <td>NaN</td>\n",
       "      <td>NaN</td>\n",
       "      <td>NaN</td>\n",
       "      <td>NaN</td>\n",
       "      <td>NaN</td>\n",
       "      <td>NaN</td>\n",
       "      <td>NaN</td>\n",
       "    </tr>\n",
       "    <tr>\n",
       "      <th>4</th>\n",
       "      <td>4</td>\n",
       "      <td>2020.01.13</td>\n",
       "      <td>13-Jan-2020</td>\n",
       "      <td>2020.0</td>\n",
       "      <td>Unprovoked</td>\n",
       "      <td>USA</td>\n",
       "      <td>North Carolina</td>\n",
       "      <td>Rodanthe, Dare County</td>\n",
       "      <td>Surfing</td>\n",
       "      <td>Samuel Horne</td>\n",
       "      <td>...</td>\n",
       "      <td>NaN</td>\n",
       "      <td>NaN</td>\n",
       "      <td>NaN</td>\n",
       "      <td>NaN</td>\n",
       "      <td>NaN</td>\n",
       "      <td>NaN</td>\n",
       "      <td>NaN</td>\n",
       "      <td>NaN</td>\n",
       "      <td>NaN</td>\n",
       "      <td>NaN</td>\n",
       "    </tr>\n",
       "  </tbody>\n",
       "</table>\n",
       "<p>5 rows × 257 columns</p>\n",
       "</div>"
      ],
      "text/plain": [
       "   index   Case Number                  Date    Year        Type      Country  \\\n",
       "0      0    2020.02.05           05-Feb-2020  2020.0  Unprovoked          USA   \n",
       "1      1  2020.01.30.R  Reported 30-Jan-2020  2020.0    Provoked      BAHAMAS   \n",
       "2      2    2020.01.17           17-Jan-2020  2020.0  Unprovoked    AUSTRALIA   \n",
       "3      3    2020.01.16           16-Jan-2020  2020.0  Unprovoked  NEW ZEALAND   \n",
       "4      4    2020.01.13           13-Jan-2020  2020.0  Unprovoked          USA   \n",
       "\n",
       "              Area               Location                  Activity  \\\n",
       "0             Maui                    NaN  Stand-Up Paddle boarding   \n",
       "1           Exumas                    NaN                  Floating   \n",
       "2  New South Wales          Windang Beach                   Surfing   \n",
       "3        Southland            Oreti Beach                   Surfing   \n",
       "4   North Carolina  Rodanthe, Dare County                   Surfing   \n",
       "\n",
       "              Name  ... Unnamed: 246 Unnamed: 247 Unnamed: 248 Unnamed: 249  \\\n",
       "0              NaN  ...          NaN          NaN          NaN          NaN   \n",
       "1  Ana Bruna Avila  ...          NaN          NaN          NaN          NaN   \n",
       "2   Will Schroeter  ...          NaN          NaN          NaN          NaN   \n",
       "3      Jordan King  ...          NaN          NaN          NaN          NaN   \n",
       "4     Samuel Horne  ...          NaN          NaN          NaN          NaN   \n",
       "\n",
       "  Unnamed: 250 Unnamed: 251 Unnamed: 252 Unnamed: 253 Unnamed: 254  \\\n",
       "0          NaN          NaN          NaN          NaN          NaN   \n",
       "1          NaN          NaN          NaN          NaN          NaN   \n",
       "2          NaN          NaN          NaN          NaN          NaN   \n",
       "3          NaN          NaN          NaN          NaN          NaN   \n",
       "4          NaN          NaN          NaN          NaN          NaN   \n",
       "\n",
       "  Unnamed: 255  \n",
       "0          NaN  \n",
       "1          NaN  \n",
       "2          NaN  \n",
       "3          NaN  \n",
       "4          NaN  \n",
       "\n",
       "[5 rows x 257 columns]"
      ]
     },
     "execution_count": 44,
     "metadata": {},
     "output_type": "execute_result"
    }
   ],
   "source": [
    "dfshark.head()"
   ]
  },
  {
   "cell_type": "code",
   "execution_count": 45,
   "id": "22e8561f-dece-4208-acbd-3caa834cc2cb",
   "metadata": {
    "tags": []
   },
   "outputs": [
    {
     "data": {
      "text/plain": [
       "Type\n",
       "Unprovoked             4716\n",
       "Provoked                593\n",
       "Invalid                 552\n",
       "Sea Disaster            239\n",
       "Watercraft              142\n",
       "Boat                    109\n",
       "Boating                  92\n",
       "Questionable             10\n",
       "Unconfirmed               1\n",
       "Unverified                1\n",
       "Under investigation       1\n",
       "Boatomg                   1\n",
       "Name: count, dtype: int64"
      ]
     },
     "execution_count": 45,
     "metadata": {},
     "output_type": "execute_result"
    }
   ],
   "source": [
    "dfshark['Type'].value_counts()"
   ]
  },
  {
   "cell_type": "code",
   "execution_count": 46,
   "id": "35f4c9f4-4d4f-443c-bfd9-a673164f76f1",
   "metadata": {
    "tags": []
   },
   "outputs": [
    {
     "data": {
      "text/plain": [
       "Type\n",
       "Unprovoked      4716\n",
       "Provoked         593\n",
       "Invalid          552\n",
       "Watercraft       344\n",
       "Sea Disaster     239\n",
       "Unknown           13\n",
       "Name: count, dtype: int64"
      ]
     },
     "execution_count": 46,
     "metadata": {},
     "output_type": "execute_result"
    }
   ],
   "source": [
    "#all types of watercraft (which is the name with the most entries) so consolidate\n",
    "dfshark['Type'] = dfshark['Type'].replace(['Watercraft','Boat','Boating','Boatomg'], 'Watercraft')\n",
    "\n",
    "#Combine all unknown incidents into one type\n",
    "dfshark['Type'] = dfshark['Type'].replace(['Questionable','Unconfirmed','Unverified','Under investigation'], 'Unknown')\n",
    "\n",
    "#not entirely sure what \"Sea Disaster\" means so not consolidating it\n",
    "dfshark['Type'].value_counts()"
   ]
  },
  {
   "cell_type": "markdown",
   "id": "025d2807-4f70-437b-93d1-0d956cd0c746",
   "metadata": {},
   "source": [
    "**Question 2, Part 3:**"
   ]
  },
  {
   "cell_type": "code",
   "execution_count": 47,
   "id": "32652396-b74d-4b3c-9754-d5dc7de29264",
   "metadata": {
    "tags": []
   },
   "outputs": [
    {
     "data": {
      "text/html": [
       "<div>\n",
       "<style scoped>\n",
       "    .dataframe tbody tr th:only-of-type {\n",
       "        vertical-align: middle;\n",
       "    }\n",
       "\n",
       "    .dataframe tbody tr th {\n",
       "        vertical-align: top;\n",
       "    }\n",
       "\n",
       "    .dataframe thead th {\n",
       "        text-align: right;\n",
       "    }\n",
       "</style>\n",
       "<table border=\"1\" class=\"dataframe\">\n",
       "  <thead>\n",
       "    <tr style=\"text-align: right;\">\n",
       "      <th></th>\n",
       "      <th>InternalStudyID</th>\n",
       "      <th>REQ_REC#</th>\n",
       "      <th>Defendant_Sex</th>\n",
       "      <th>Defendant_Race</th>\n",
       "      <th>Defendant_BirthYear</th>\n",
       "      <th>Defendant_Age</th>\n",
       "      <th>Defendant_AgeGroup</th>\n",
       "      <th>Defendant_AgeatCurrentArrest</th>\n",
       "      <th>Defendant_AttorneyTypeAtCaseClosure</th>\n",
       "      <th>Defendant_IndigencyStatus</th>\n",
       "      <th>...</th>\n",
       "      <th>NewFelonySexualAssaultArrest_OffDate</th>\n",
       "      <th>NewFelonySexualAssaultArrest_ArrestDate</th>\n",
       "      <th>NewFelonySexualAssaultArrest_DaysBetweenContactEventandOffDate</th>\n",
       "      <th>NewFelonySexualAssaultArrest_DaysBetweenOffDateandArrestDate</th>\n",
       "      <th>NewFelonySexualAssaultArrest_DaysBetweenReleaseDateandOffDate</th>\n",
       "      <th>NewFelonySexualAssaultArrest_Disposition</th>\n",
       "      <th>Intertnalindicator_ReasonforExcludingFromFollowUpAnalysis</th>\n",
       "      <th>CriminalHistoryRecordsReturnedorCMSRecordsFoundforIndividual</th>\n",
       "      <th>DispRecordFoundforChargesinOct2017Contact_Atleast1dispfound</th>\n",
       "      <th>CrimeCommission2021ReportClassificationofDefendants</th>\n",
       "    </tr>\n",
       "  </thead>\n",
       "  <tbody>\n",
       "    <tr>\n",
       "      <th>0</th>\n",
       "      <td>ADI00001</td>\n",
       "      <td>1</td>\n",
       "      <td>M</td>\n",
       "      <td>W</td>\n",
       "      <td>1986</td>\n",
       "      <td>31</td>\n",
       "      <td>3</td>\n",
       "      <td>31</td>\n",
       "      <td>99</td>\n",
       "      <td>99</td>\n",
       "      <td>...</td>\n",
       "      <td></td>\n",
       "      <td></td>\n",
       "      <td></td>\n",
       "      <td>999</td>\n",
       "      <td>999</td>\n",
       "      <td></td>\n",
       "      <td>4</td>\n",
       "      <td>1</td>\n",
       "      <td>0</td>\n",
       "      <td>Defendant could not be classified or tracked d...</td>\n",
       "    </tr>\n",
       "    <tr>\n",
       "      <th>1</th>\n",
       "      <td>ADI00007</td>\n",
       "      <td>3</td>\n",
       "      <td>M</td>\n",
       "      <td>B</td>\n",
       "      <td>1956</td>\n",
       "      <td>60</td>\n",
       "      <td>6</td>\n",
       "      <td>60</td>\n",
       "      <td>9</td>\n",
       "      <td>9</td>\n",
       "      <td>...</td>\n",
       "      <td></td>\n",
       "      <td></td>\n",
       "      <td></td>\n",
       "      <td>999</td>\n",
       "      <td>999</td>\n",
       "      <td></td>\n",
       "      <td>5</td>\n",
       "      <td>1</td>\n",
       "      <td>1</td>\n",
       "      <td>Defendant Detained Entire Pre-Trial Period_Und...</td>\n",
       "    </tr>\n",
       "    <tr>\n",
       "      <th>2</th>\n",
       "      <td>ADI00008</td>\n",
       "      <td>4</td>\n",
       "      <td>M</td>\n",
       "      <td>W</td>\n",
       "      <td>1990</td>\n",
       "      <td>27</td>\n",
       "      <td>3</td>\n",
       "      <td>27</td>\n",
       "      <td>9</td>\n",
       "      <td>9</td>\n",
       "      <td>...</td>\n",
       "      <td></td>\n",
       "      <td></td>\n",
       "      <td></td>\n",
       "      <td>999</td>\n",
       "      <td>999</td>\n",
       "      <td></td>\n",
       "      <td>5</td>\n",
       "      <td>1</td>\n",
       "      <td>1</td>\n",
       "      <td>Defendant Detained Entire Pre-Trial Period_Und...</td>\n",
       "    </tr>\n",
       "    <tr>\n",
       "      <th>3</th>\n",
       "      <td>CDI00036</td>\n",
       "      <td>6</td>\n",
       "      <td>M</td>\n",
       "      <td>B</td>\n",
       "      <td>1989</td>\n",
       "      <td>27</td>\n",
       "      <td>3</td>\n",
       "      <td>27</td>\n",
       "      <td>0</td>\n",
       "      <td>0</td>\n",
       "      <td>...</td>\n",
       "      <td></td>\n",
       "      <td></td>\n",
       "      <td></td>\n",
       "      <td>999</td>\n",
       "      <td>999</td>\n",
       "      <td></td>\n",
       "      <td>5</td>\n",
       "      <td>1</td>\n",
       "      <td>1</td>\n",
       "      <td>Defendant Detained Entire Pre-Trial Period_Und...</td>\n",
       "    </tr>\n",
       "    <tr>\n",
       "      <th>4</th>\n",
       "      <td>CDI00038</td>\n",
       "      <td>7</td>\n",
       "      <td>F</td>\n",
       "      <td>W</td>\n",
       "      <td>1988</td>\n",
       "      <td>28</td>\n",
       "      <td>3</td>\n",
       "      <td>28</td>\n",
       "      <td>0</td>\n",
       "      <td>0</td>\n",
       "      <td>...</td>\n",
       "      <td></td>\n",
       "      <td></td>\n",
       "      <td></td>\n",
       "      <td>999</td>\n",
       "      <td>999</td>\n",
       "      <td></td>\n",
       "      <td>0</td>\n",
       "      <td>1</td>\n",
       "      <td>1</td>\n",
       "      <td>New criminal offense punishable by incarcerati...</td>\n",
       "    </tr>\n",
       "  </tbody>\n",
       "</table>\n",
       "<p>5 rows × 709 columns</p>\n",
       "</div>"
      ],
      "text/plain": [
       "  InternalStudyID REQ_REC# Defendant_Sex Defendant_Race Defendant_BirthYear  \\\n",
       "0        ADI00001        1             M              W                1986   \n",
       "1        ADI00007        3             M              B                1956   \n",
       "2        ADI00008        4             M              W                1990   \n",
       "3        CDI00036        6             M              B                1989   \n",
       "4        CDI00038        7             F              W                1988   \n",
       "\n",
       "  Defendant_Age  Defendant_AgeGroup Defendant_AgeatCurrentArrest  \\\n",
       "0            31                   3                           31   \n",
       "1            60                   6                           60   \n",
       "2            27                   3                           27   \n",
       "3            27                   3                           27   \n",
       "4            28                   3                           28   \n",
       "\n",
       "   Defendant_AttorneyTypeAtCaseClosure  Defendant_IndigencyStatus  ...  \\\n",
       "0                                   99                         99  ...   \n",
       "1                                    9                          9  ...   \n",
       "2                                    9                          9  ...   \n",
       "3                                    0                          0  ...   \n",
       "4                                    0                          0  ...   \n",
       "\n",
       "  NewFelonySexualAssaultArrest_OffDate  \\\n",
       "0                                        \n",
       "1                                        \n",
       "2                                        \n",
       "3                                        \n",
       "4                                        \n",
       "\n",
       "  NewFelonySexualAssaultArrest_ArrestDate  \\\n",
       "0                                           \n",
       "1                                           \n",
       "2                                           \n",
       "3                                           \n",
       "4                                           \n",
       "\n",
       "   NewFelonySexualAssaultArrest_DaysBetweenContactEventandOffDate  \\\n",
       "0                                                                   \n",
       "1                                                                   \n",
       "2                                                                   \n",
       "3                                                                   \n",
       "4                                                                   \n",
       "\n",
       "  NewFelonySexualAssaultArrest_DaysBetweenOffDateandArrestDate  \\\n",
       "0                                                999             \n",
       "1                                                999             \n",
       "2                                                999             \n",
       "3                                                999             \n",
       "4                                                999             \n",
       "\n",
       "   NewFelonySexualAssaultArrest_DaysBetweenReleaseDateandOffDate  \\\n",
       "0                                                999               \n",
       "1                                                999               \n",
       "2                                                999               \n",
       "3                                                999               \n",
       "4                                                999               \n",
       "\n",
       "   NewFelonySexualAssaultArrest_Disposition  \\\n",
       "0                                             \n",
       "1                                             \n",
       "2                                             \n",
       "3                                             \n",
       "4                                             \n",
       "\n",
       "   Intertnalindicator_ReasonforExcludingFromFollowUpAnalysis  \\\n",
       "0                                                  4           \n",
       "1                                                  5           \n",
       "2                                                  5           \n",
       "3                                                  5           \n",
       "4                                                  0           \n",
       "\n",
       "   CriminalHistoryRecordsReturnedorCMSRecordsFoundforIndividual  \\\n",
       "0                                                  1              \n",
       "1                                                  1              \n",
       "2                                                  1              \n",
       "3                                                  1              \n",
       "4                                                  1              \n",
       "\n",
       "  DispRecordFoundforChargesinOct2017Contact_Atleast1dispfound  \\\n",
       "0                                                  0            \n",
       "1                                                  1            \n",
       "2                                                  1            \n",
       "3                                                  1            \n",
       "4                                                  1            \n",
       "\n",
       "   CrimeCommission2021ReportClassificationofDefendants  \n",
       "0  Defendant could not be classified or tracked d...    \n",
       "1  Defendant Detained Entire Pre-Trial Period_Und...    \n",
       "2  Defendant Detained Entire Pre-Trial Period_Und...    \n",
       "3  Defendant Detained Entire Pre-Trial Period_Und...    \n",
       "4  New criminal offense punishable by incarcerati...    \n",
       "\n",
       "[5 rows x 709 columns]"
      ]
     },
     "execution_count": 47,
     "metadata": {},
     "output_type": "execute_result"
    }
   ],
   "source": [
    "dftrial.head()"
   ]
  },
  {
   "cell_type": "code",
   "execution_count": 48,
   "id": "5ff2fea2-b4d4-45c5-93d4-845912c0beff",
   "metadata": {
    "tags": []
   },
   "outputs": [],
   "source": [
    "dftrial = dftrial.rename(columns = {\"WhetherDefendantWasReleasedPretrial\":\"ReleasedPretrial\"})"
   ]
  },
  {
   "cell_type": "code",
   "execution_count": 51,
   "id": "ed6e1f7b-cad3-4311-821d-42b7bf1668a8",
   "metadata": {
    "tags": []
   },
   "outputs": [
    {
     "data": {
      "text/plain": [
       "ReleasedPretrial\n",
       "1    19154\n",
       "0     3801\n",
       "9       31\n",
       "Name: count, dtype: int64"
      ]
     },
     "execution_count": 51,
     "metadata": {},
     "output_type": "execute_result"
    }
   ],
   "source": [
    "dftrial['ReleasedPretrial'].value_counts()"
   ]
  },
  {
   "cell_type": "code",
   "execution_count": 58,
   "id": "11ee4d3e-64f7-4958-8487-afbeaff4ab39",
   "metadata": {
    "tags": []
   },
   "outputs": [
    {
     "data": {
      "text/plain": [
       "ReleasedPretrial\n",
       "1.0    19154\n",
       "0.0     3801\n",
       "Name: count, dtype: int64"
      ]
     },
     "execution_count": 58,
     "metadata": {},
     "output_type": "execute_result"
    }
   ],
   "source": [
    "#in the codebook, 9 means unclear. So replace those with 'np.nan' and count them as missing/null\n",
    "#currently ints so just using '.replace'\n",
    "dftrial['ReleasedPretrial'] = dftrial['ReleasedPretrial'].replace(9,np.nan)\n",
    "dftrial['ReleasedPretrial'].value_counts()"
   ]
  },
  {
   "cell_type": "code",
   "execution_count": 60,
   "id": "c6ecacac-6807-4aff-9971-4097f200d1a3",
   "metadata": {
    "tags": []
   },
   "outputs": [
    {
     "name": "stdout",
     "output_type": "stream",
     "text": [
      "Total missing:  31\n"
     ]
    }
   ],
   "source": [
    "print('Total missing: ',sum(dftrial['ReleasedPretrial'].isnull()))"
   ]
  },
  {
   "cell_type": "markdown",
   "id": "e09c22a6-a5a9-413c-b5e9-95f9b79a61b4",
   "metadata": {},
   "source": [
    "**Question 2, Part 4:**"
   ]
  },
  {
   "cell_type": "code",
   "execution_count": 74,
   "id": "4ca30ef8-8dc0-4c97-9242-7534b9f7ddda",
   "metadata": {
    "tags": []
   },
   "outputs": [
    {
     "data": {
      "text/plain": [
       "ImposedSentenceAllChargeInContactEvent\n",
       "                    9053\n",
       "0                   4953\n",
       "12                  1404\n",
       ".985626283367556    1051\n",
       "6                    809\n",
       "                    ... \n",
       "49.9712525667351       1\n",
       "57.0349075975359       1\n",
       "79.9260780287474       1\n",
       "42.1642710472279       1\n",
       "1.6570841889117        1\n",
       "Name: count, Length: 484, dtype: int64"
      ]
     },
     "execution_count": 74,
     "metadata": {},
     "output_type": "execute_result"
    }
   ],
   "source": [
    "sentenceLength = dftrial['ImposedSentenceAllChargeInContactEvent']\n",
    "sentenceLength.value_counts()"
   ]
  },
  {
   "cell_type": "code",
   "execution_count": 75,
   "id": "2bcd2095-3702-4e83-94ac-3b0f7e3a0eb0",
   "metadata": {
    "tags": []
   },
   "outputs": [
    {
     "data": {
      "text/plain": [
       "SentenceTypeAllChargesAtConvictionInContactEvent\n",
       "4    8779\n",
       "0    8720\n",
       "1    4299\n",
       "2     914\n",
       "9     274\n",
       "Name: count, dtype: int64"
      ]
     },
     "execution_count": 75,
     "metadata": {},
     "output_type": "execute_result"
    }
   ],
   "source": [
    "sentenceType = dftrial['SentenceTypeAllChargesAtConvictionInContactEvent']\n",
    "sentenceType.value_counts()"
   ]
  },
  {
   "cell_type": "code",
   "execution_count": 76,
   "id": "73f2fa98-85f1-4bae-8ec0-c2c81bbff3a8",
   "metadata": {
    "tags": []
   },
   "outputs": [
    {
     "name": "stdout",
     "output_type": "stream",
     "text": [
      "9053\n"
     ]
    }
   ],
   "source": [
    "#turn blank values in sentenceLength into null/numeric values\n",
    "sentenceLength = pd.to_numeric(sentenceLength, errors = 'coerce')\n",
    "print(np.sum(sentenceLength.isnull()))"
   ]
  },
  {
   "cell_type": "code",
   "execution_count": 79,
   "id": "40eb0df5-924e-4874-9148-b7c30fc47632",
   "metadata": {
    "tags": []
   },
   "outputs": [
    {
     "data": {
      "text/html": [
       "<div>\n",
       "<style scoped>\n",
       "    .dataframe tbody tr th:only-of-type {\n",
       "        vertical-align: middle;\n",
       "    }\n",
       "\n",
       "    .dataframe tbody tr th {\n",
       "        vertical-align: top;\n",
       "    }\n",
       "\n",
       "    .dataframe thead th {\n",
       "        text-align: right;\n",
       "    }\n",
       "</style>\n",
       "<table border=\"1\" class=\"dataframe\">\n",
       "  <thead>\n",
       "    <tr style=\"text-align: right;\">\n",
       "      <th>SentenceTypeAllChargesAtConvictionInContactEvent</th>\n",
       "      <th>0</th>\n",
       "      <th>1</th>\n",
       "      <th>2</th>\n",
       "      <th>4</th>\n",
       "      <th>9</th>\n",
       "    </tr>\n",
       "    <tr>\n",
       "      <th>ImposedSentenceAllChargeInContactEvent</th>\n",
       "      <th></th>\n",
       "      <th></th>\n",
       "      <th></th>\n",
       "      <th></th>\n",
       "      <th></th>\n",
       "    </tr>\n",
       "  </thead>\n",
       "  <tbody>\n",
       "    <tr>\n",
       "      <th>False</th>\n",
       "      <td>8720</td>\n",
       "      <td>4299</td>\n",
       "      <td>914</td>\n",
       "      <td>0</td>\n",
       "      <td>0</td>\n",
       "    </tr>\n",
       "    <tr>\n",
       "      <th>True</th>\n",
       "      <td>0</td>\n",
       "      <td>0</td>\n",
       "      <td>0</td>\n",
       "      <td>8779</td>\n",
       "      <td>274</td>\n",
       "    </tr>\n",
       "  </tbody>\n",
       "</table>\n",
       "</div>"
      ],
      "text/plain": [
       "SentenceTypeAllChargesAtConvictionInContactEvent     0     1    2     4    9\n",
       "ImposedSentenceAllChargeInContactEvent                                      \n",
       "False                                             8720  4299  914     0    0\n",
       "True                                                 0     0    0  8779  274"
      ]
     },
     "execution_count": 79,
     "metadata": {},
     "output_type": "execute_result"
    }
   ],
   "source": [
    "#large amount of null values is bad, so cross-check the missing null values with sentenceTypes\n",
    "pd.crosstab(sentenceLength.isnull(),sentenceType)"
   ]
  },
  {
   "cell_type": "code",
   "execution_count": 81,
   "id": "5418d54b-65dc-4f20-97af-08d420855a1d",
   "metadata": {
    "tags": []
   },
   "outputs": [
    {
     "data": {
      "text/html": [
       "<div>\n",
       "<style scoped>\n",
       "    .dataframe tbody tr th:only-of-type {\n",
       "        vertical-align: middle;\n",
       "    }\n",
       "\n",
       "    .dataframe tbody tr th {\n",
       "        vertical-align: top;\n",
       "    }\n",
       "\n",
       "    .dataframe thead th {\n",
       "        text-align: right;\n",
       "    }\n",
       "</style>\n",
       "<table border=\"1\" class=\"dataframe\">\n",
       "  <thead>\n",
       "    <tr style=\"text-align: right;\">\n",
       "      <th>SentenceTypeAllChargesAtConvictionInContactEvent</th>\n",
       "      <th>0</th>\n",
       "      <th>1</th>\n",
       "      <th>2</th>\n",
       "      <th>4</th>\n",
       "      <th>9</th>\n",
       "    </tr>\n",
       "    <tr>\n",
       "      <th>ImposedSentenceAllChargeInContactEvent</th>\n",
       "      <th></th>\n",
       "      <th></th>\n",
       "      <th></th>\n",
       "      <th></th>\n",
       "      <th></th>\n",
       "    </tr>\n",
       "  </thead>\n",
       "  <tbody>\n",
       "    <tr>\n",
       "      <th>False</th>\n",
       "      <td>8720</td>\n",
       "      <td>4299</td>\n",
       "      <td>914</td>\n",
       "      <td>8779</td>\n",
       "      <td>0</td>\n",
       "    </tr>\n",
       "    <tr>\n",
       "      <th>True</th>\n",
       "      <td>0</td>\n",
       "      <td>0</td>\n",
       "      <td>0</td>\n",
       "      <td>0</td>\n",
       "      <td>274</td>\n",
       "    </tr>\n",
       "  </tbody>\n",
       "</table>\n",
       "</div>"
      ],
      "text/plain": [
       "SentenceTypeAllChargesAtConvictionInContactEvent     0     1    2     4    9\n",
       "ImposedSentenceAllChargeInContactEvent                                      \n",
       "False                                             8720  4299  914  8779    0\n",
       "True                                                 0     0    0     0  274"
      ]
     },
     "execution_count": 81,
     "metadata": {},
     "output_type": "execute_result"
    }
   ],
   "source": [
    "#9 represents not applicable and should be null/nan, 4 represents 'other' which are mostly just 'no incarceration' anyways, so convert to \"0\"\n",
    "sentenceLength = sentenceLength.mask(sentenceType == 9, np.nan)\n",
    "sentenceLength = sentenceLength.mask(sentenceType == 4, 0)\n",
    "pd.crosstab(sentenceLength.isnull(),sentenceType)"
   ]
  },
  {
   "cell_type": "code",
   "execution_count": 82,
   "id": "80087866-83a8-4a28-91d4-bc7002280be7",
   "metadata": {
    "tags": []
   },
   "outputs": [
    {
     "data": {
      "text/plain": [
       "ImposedSentenceAllChargeInContactEvent\n",
       "0.000000     13732\n",
       "12.000000     1404\n",
       "0.985626      1051\n",
       "6.000000       809\n",
       "3.000000       787\n",
       "             ...  \n",
       "49.971253        1\n",
       "57.034908        1\n",
       "79.926078        1\n",
       "42.164271        1\n",
       "1.657084         1\n",
       "Name: count, Length: 483, dtype: int64"
      ]
     },
     "execution_count": 82,
     "metadata": {},
     "output_type": "execute_result"
    }
   ],
   "source": [
    "sentenceLength.value_counts()"
   ]
  },
  {
   "cell_type": "code",
   "execution_count": 83,
   "id": "105d43c2-5e1c-4b50-8914-cefc87868062",
   "metadata": {
    "tags": []
   },
   "outputs": [
    {
     "name": "stdout",
     "output_type": "stream",
     "text": [
      "Total missing:  274\n"
     ]
    }
   ],
   "source": [
    "print('Total missing: ',sum(sentenceLength.isnull()))"
   ]
  }
 ],
 "metadata": {
  "colab": {
   "provenance": []
  },
  "kernelspec": {
   "display_name": "Python 3 (ipykernel)",
   "language": "python",
   "name": "python3"
  },
  "language_info": {
   "codemirror_mode": {
    "name": "ipython",
    "version": 3
   },
   "file_extension": ".py",
   "mimetype": "text/x-python",
   "name": "python",
   "nbconvert_exporter": "python",
   "pygments_lexer": "ipython3",
   "version": "3.11.5"
  }
 },
 "nbformat": 4,
 "nbformat_minor": 5
}
